{
 "cells": [
  {
   "cell_type": "markdown",
   "metadata": {},
   "source": [
    "**MINOR PROJECT**\n",
    "\n",
    "Prediction in time series dataset"
   ]
  },
  {
   "cell_type": "markdown",
   "metadata": {},
   "source": [
    "**SECTION 1: READING DATA**"
   ]
  },
  {
   "cell_type": "code",
   "execution_count": 20,
   "metadata": {},
   "outputs": [
    {
     "data": {
      "text/plain": [
       "Unnamed: 0     object\n",
       "year            int64\n",
       "Para-1        float64\n",
       "Para-2        float64\n",
       "Para-3        float64\n",
       "Para-4        float64\n",
       "Para-5          int64\n",
       "Para-6          int64\n",
       "Para-7          int64\n",
       "Para-8          int64\n",
       "Para-9        float64\n",
       "Para-10       float64\n",
       "Para-11       float64\n",
       "Para-12         int64\n",
       "Para-13       float64\n",
       "dtype: object"
      ]
     },
     "execution_count": 20,
     "metadata": {},
     "output_type": "execute_result"
    }
   ],
   "source": [
    "import pandas as pd\n",
    "import numpy as np\n",
    "import math\n",
    "df = pd.read_excel('./DATASET.xlsx')\n",
    "df.dtypes\n"
   ]
  },
  {
   "cell_type": "markdown",
   "metadata": {},
   "source": [
    "**SECTION 2: REMOVING IRREVELANT ENTRIES**\n",
    "\n",
    "***1.) REMOVED SECTIONS WHERE DATA FOR 10TH ROW IS ABSENT***\n",
    "\n",
    "***2.) CREATING SEPARATE SECTION FILES OF VALID SECTIONS***"
   ]
  },
  {
   "cell_type": "code",
   "execution_count": 21,
   "metadata": {},
   "outputs": [],
   "source": [
    "import os\n",
    "path = './sections/'\n",
    "isExist = os.path.exists(path)\n",
    "if not isExist:\n",
    "  # Create a new directory because it does not exist \n",
    "  os.makedirs(path)"
   ]
  },
  {
   "cell_type": "code",
   "execution_count": 22,
   "metadata": {},
   "outputs": [],
   "source": [
    "df2 = pd.DataFrame()\n",
    "sec_no = \"\"\n",
    "i = 0\n",
    "new_df = pd.DataFrame()\n",
    "while i < len(df):\n",
    "    j = 0\n",
    "    if type(df.iloc[i][0])==str:\n",
    "        sec_no = df.iloc[i][0]\n",
    "        j+=1\n",
    "    j+=i\n",
    "    exist = False\n",
    "    while j < len(df) and type(df.iloc[j][0])!=str:\n",
    "        if df.iloc[j][1] == 10:\n",
    "            exist = True\n",
    "        j += 1\n",
    "    \n",
    "    if(exist):\n",
    "        df2 = df2.append(df.loc[i:j-1,:])\n",
    "        new_df = new_df.append(df.loc[i:j-1,:])\n",
    "        new_df.to_csv('./sections/'+sec_no+'.csv',index=False)\n",
    "        new_df = new_df.iloc[0:0]\n",
    "    i = j\n",
    "\n",
    "df2.reset_index(inplace=True,drop=True)\n"
   ]
  },
  {
   "cell_type": "markdown",
   "metadata": {},
   "source": [
    "**SECTION 3: ANALYSIS PHASE**"
   ]
  },
  {
   "cell_type": "code",
   "execution_count": 23,
   "metadata": {},
   "outputs": [],
   "source": [
    "#importing libraries\n",
    "\n",
    "from xgboost import XGBRegressor\n",
    "import matplotlib.pyplot as plt\n",
    "from sklearn.metrics import mean_squared_error"
   ]
  },
  {
   "cell_type": "code",
   "execution_count": 38,
   "metadata": {},
   "outputs": [],
   "source": [
    "#df2.drop(columns=['Unnamed: 0'],inplace=True)\n",
    "df2.dropna(axis = 0, how ='any', thresh = None, subset = None, inplace=True)"
   ]
  },
  {
   "cell_type": "code",
   "execution_count": null,
   "metadata": {},
   "outputs": [],
   "source": [
    "df2.isna().sum()"
   ]
  },
  {
   "cell_type": "code",
   "execution_count": 62,
   "metadata": {},
   "outputs": [],
   "source": [
    "import glob\n",
    "path = \"./sections/*.csv\"\n",
    "for fname in glob.glob(path):\n",
    "    tdf = pd.read_csv(fname)\n",
    "    tdf.drop(columns=['Unnamed: 0'],inplace=True)\n",
    "    tdf.dropna(axis = 0, how ='any', thresh = None, subset = None, inplace=True)\n",
    "    sec_no = fname.split('/')[2].split('.')[0]\n",
    "\n",
    "    rmse_df = pd.DataFrame()\n",
    "\n",
    "\n",
    "    for i in range(9,14):\n",
    "        folder_path = './rmse comparisons/'\n",
    "        isExist = os.path.exists(folder_path)\n",
    "        if not isExist:\n",
    "            os.makedirs(folder_path)\n",
    "\n",
    "        x = tdf.drop(columns=['Para-9', 'Para-10',\t'Para-11',\t'Para-12',\t'Para-13'], axis=1)\n",
    "        y = tdf['Para-'+str(i)]\n",
    "        x_train, x_test = x.iloc[:-1, :], x.iloc[-1:, :]\n",
    "        y_train, y_test = y.iloc[:-1], y.iloc[-1:]\n",
    "\n",
    "        model = XGBRegressor(booster='dart',objective='reg:squarederror',random_state=21,verbosity = 0)\n",
    "        model.fit(x_train, y_train)\n",
    "        predictions = model.predict(x_test)\n",
    "        rmse = np.round(math.sqrt(mean_squared_error(y_test, predictions)), 3)\n",
    "        actual = y_test.values\n",
    "        rmse_df.loc[0, 'Para-'+str(i)] = actual[0]\n",
    "        rmse_df.loc[1, 'Para-'+str(i)] = np.round(predictions[0], 3)\n",
    "        rmse_df.loc[2, 'Para-'+str(i)] = rmse\n",
    "    \n",
    "    rmse_df.to_csv(folder_path+'/'+sec_no+'.csv', index=False)"
   ]
  },
  {
   "cell_type": "markdown",
   "metadata": {},
   "source": [
    "**SECTION 4: PLOTTING DATA and CALCUATING ERRORS**"
   ]
  },
  {
   "cell_type": "code",
   "execution_count": 63,
   "metadata": {},
   "outputs": [],
   "source": [
    "rmse_collection = []\n",
    "\n",
    "folder_path = './graphs/'\n",
    "isExist = os.path.exists(folder_path)\n",
    "if not isExist:\n",
    "  os.makedirs(folder_path)\n",
    "\n",
    "path = \"./rmse comparisons/*.csv\"\n",
    "for fname in glob.glob(path):\n",
    "  rmse_df = pd.read_csv(fname)\n",
    "  sec_no = fname.split('/')[2].split('.')[0]\n",
    "\n",
    "  mean_rmse = np.round(rmse_df.iloc[2, :].mean(axis=0), 3)\n",
    "  rmse_collection.append(mean_rmse)\n",
    "  line_1 = rmse_df.iloc[0, :]\n",
    "  line_2 = rmse_df.iloc[1, :]\n",
    "  fig, ax = plt.subplots()\n",
    "  ax.plot(line_1, color = 'green', label = 'Actual Data')\n",
    "  ax.plot(line_2, color = 'red', label = 'Predicted Data')\n",
    "  plt.title(\"RMSE Graph: \"+str(mean_rmse))\n",
    "  ax.legend()\n",
    "  plt.savefig(\"./graphs/\"+str(sec_no)+\".png\")\n",
    "  plt.close()"
   ]
  },
  {
   "cell_type": "code",
   "execution_count": 64,
   "metadata": {},
   "outputs": [
    {
     "name": "stdout",
     "output_type": "stream",
     "text": [
      "RMSE:  9.024\n"
     ]
    }
   ],
   "source": [
    "# FINAL RMSE ERROR\n",
    "\n",
    "f_rmse = sum(rmse_collection)/len(rmse_collection)\n",
    "print(\"RMSE: \", np.round(f_rmse, 3))"
   ]
  },
  {
   "cell_type": "code",
   "execution_count": null,
   "metadata": {},
   "outputs": [],
   "source": []
  }
 ],
 "metadata": {
  "interpreter": {
   "hash": "916dbcbb3f70747c44a77c7bcd40155683ae19c65e1c03b4aa3499c5328201f1"
  },
  "kernelspec": {
   "display_name": "Python 3.9.7 64-bit",
   "language": "python",
   "name": "python3"
  },
  "language_info": {
   "codemirror_mode": {
    "name": "ipython",
    "version": 3
   },
   "file_extension": ".py",
   "mimetype": "text/x-python",
   "name": "python",
   "nbconvert_exporter": "python",
   "pygments_lexer": "ipython3",
   "version": "3.9.7"
  },
  "orig_nbformat": 4
 },
 "nbformat": 4,
 "nbformat_minor": 2
}
